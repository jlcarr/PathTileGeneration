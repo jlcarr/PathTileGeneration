{
 "cells": [
  {
   "cell_type": "markdown",
   "id": "6a955502",
   "metadata": {},
   "source": [
    "# Calculations for Tile Generation"
   ]
  },
  {
   "cell_type": "code",
   "execution_count": null,
   "id": "02cf7cc7",
   "metadata": {},
   "outputs": [],
   "source": [
    "import sympy"
   ]
  },
  {
   "cell_type": "markdown",
   "id": "3e4cc6ef",
   "metadata": {},
   "source": [
    "## Octagonal Grid\n",
    "### Angles, heights and lengths"
   ]
  },
  {
   "cell_type": "code",
   "execution_count": null,
   "id": "6bb92013",
   "metadata": {},
   "outputs": [],
   "source": [
    "w = 10\n",
    "T = 2*sympy.pi/8\n",
    "R = w*sympy.sec(T/2)\n",
    "R"
   ]
  },
  {
   "cell_type": "code",
   "execution_count": null,
   "id": "30a6c1f7",
   "metadata": {},
   "outputs": [],
   "source": [
    "sympy.N(R)"
   ]
  },
  {
   "cell_type": "code",
   "execution_count": null,
   "id": "a7682f10",
   "metadata": {},
   "outputs": [],
   "source": [
    "h = R * sympy.sin(T/2)\n",
    "h"
   ]
  },
  {
   "cell_type": "code",
   "execution_count": null,
   "id": "f37d58e7",
   "metadata": {},
   "outputs": [],
   "source": [
    "sympy.N(h)"
   ]
  },
  {
   "cell_type": "markdown",
   "id": "c044e088",
   "metadata": {},
   "source": [
    "### Arc on the grid"
   ]
  },
  {
   "cell_type": "markdown",
   "id": "aa2174fe",
   "metadata": {},
   "source": [
    "Start with the circle equations"
   ]
  },
  {
   "cell_type": "code",
   "execution_count": null,
   "id": "a11a8e57",
   "metadata": {},
   "outputs": [],
   "source": [
    "r,cx,cy = sympy.symbols('r cx cy')\n",
    "x,y = sympy.symbols('x y')"
   ]
  },
  {
   "cell_type": "code",
   "execution_count": null,
   "id": "1c6d0a73",
   "metadata": {},
   "outputs": [],
   "source": [
    "circ_eq = (x-cx)**2 + (y-cy)**2 - r**2\n",
    "circ_eq"
   ]
  },
  {
   "cell_type": "code",
   "execution_count": null,
   "id": "a7107ab2",
   "metadata": {},
   "outputs": [],
   "source": [
    "dydx_circ_eq = sympy.idiff(circ_eq, [y], x)\n",
    "dydx_circ_eq"
   ]
  },
  {
   "cell_type": "code",
   "execution_count": null,
   "id": "0d8cf7d7",
   "metadata": {},
   "outputs": [],
   "source": [
    "dxdy_circ_eq = sympy.idiff(circ_eq, [x], y)\n",
    "dxdy_circ_eq"
   ]
  },
  {
   "cell_type": "markdown",
   "id": "82254394",
   "metadata": {},
   "source": [
    "Solve for the case of arcing from the left to the upper right"
   ]
  },
  {
   "cell_type": "code",
   "execution_count": null,
   "id": "e7a16db5",
   "metadata": {},
   "outputs": [],
   "source": [
    "eqs = [\n",
    "    circ_eq.subs({'x':-w, 'y':-h}),\n",
    "    circ_eq.subs({'x':h, 'y':-w}),\n",
    "    dydx_circ_eq.subs({'x':-w, 'y':-h}) - 0,\n",
    "    #dydx_circ_eq.subs({'x':h, 'y':-w}) - 1,\n",
    "]\n",
    "eqs"
   ]
  },
  {
   "cell_type": "code",
   "execution_count": null,
   "id": "a9c19dc4",
   "metadata": {},
   "outputs": [],
   "source": [
    "sol = sympy.solve(eqs, [r, cx, cy], dict=True)\n",
    "sol"
   ]
  },
  {
   "cell_type": "code",
   "execution_count": null,
   "id": "8ee965d9",
   "metadata": {},
   "outputs": [],
   "source": [
    "{v:sympy.N(vv) for v,vv in sol[-1].items()}"
   ]
  },
  {
   "cell_type": "code",
   "execution_count": null,
   "id": "38984f69",
   "metadata": {},
   "outputs": [],
   "source": []
  }
 ],
 "metadata": {
  "kernelspec": {
   "display_name": "Python 3",
   "language": "python",
   "name": "python3"
  },
  "language_info": {
   "codemirror_mode": {
    "name": "ipython",
    "version": 3
   },
   "file_extension": ".py",
   "mimetype": "text/x-python",
   "name": "python",
   "nbconvert_exporter": "python",
   "pygments_lexer": "ipython3",
   "version": "3.11.1"
  }
 },
 "nbformat": 4,
 "nbformat_minor": 5
}
